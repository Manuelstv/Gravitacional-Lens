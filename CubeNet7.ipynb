{
  "nbformat": 4,
  "nbformat_minor": 0,
  "metadata": {
    "colab": {
      "name": "CubeNet7.ipynb",
      "provenance": [],
      "collapsed_sections": [],
      "include_colab_link": true
    },
    "kernelspec": {
      "name": "python3",
      "display_name": "Python 3"
    },
    "accelerator": "GPU"
  },
  "cells": [
    {
      "cell_type": "markdown",
      "metadata": {
        "id": "view-in-github",
        "colab_type": "text"
      },
      "source": [
        "<a href=\"https://colab.research.google.com/github/Manuelstv/astro-ml/blob/main/CubeNet7.ipynb\" target=\"_parent\"><img src=\"https://colab.research.google.com/assets/colab-badge.svg\" alt=\"Open In Colab\"/></a>"
      ]
    },
    {
      "cell_type": "code",
      "metadata": {
        "id": "T0k8C-sUx0_V",
        "outputId": "3484ec2d-db63-4ab8-fe2d-0a317fa282d7",
        "colab": {
          "base_uri": "https://localhost:8080/",
          "height": 34
        }
      },
      "source": [
        "#install libraries\n",
        "#%matplotlib inline\n",
        "!apt-get -y install -qq graphviz\n",
        "!pip install -U -q astropy\n",
        "!pip install -U -q pydot\n",
        "!pip install -U -q pydot_ng\n",
        "!pip install -U -q graphviz"
      ],
      "execution_count": null,
      "outputs": [
        {
          "output_type": "stream",
          "text": [
            "\u001b[K     |████████████████████████████████| 6.3MB 3.1MB/s \n",
            "\u001b[?25h"
          ],
          "name": "stdout"
        }
      ]
    },
    {
      "cell_type": "code",
      "metadata": {
        "id": "aAOB_BFmGBuk",
        "outputId": "ba3c33d8-2a50-401f-f064-bf03d7792f9e",
        "colab": {
          "base_uri": "https://localhost:8080/",
          "height": 34
        }
      },
      "source": [
        "# import libraries\n",
        "import matplotlib.pyplot as plt\n",
        "import pandas as pd # data processing, CSV file I/O (e.g. pd.read_csv)\n",
        "import numpy as np\n",
        "import pylab as py\n",
        "import cv2\n",
        "import h5py\n",
        "\n",
        "import scipy\n",
        "import scipy.misc\n",
        "import warnings\n",
        "import os\n",
        "import keras\n",
        "import pydot\n",
        "import pydot_ng\n",
        "import time\n",
        "import tensorflow as tf\n",
        "import timeit\n",
        "import matplotlib.pyplot as plt\n",
        "\n",
        "\n",
        "from google.colab import drive\n",
        "from google.colab import files\n",
        "from astropy.io import fits\n",
        "from keras import models\n",
        "from keras.models import Sequential\n",
        "from keras import layers\n",
        "from keras.layers import Convolution2D\n",
        "from keras.layers import MaxPooling2D\n",
        "from keras.layers import Dense, Dropout, Flatten, Activation\n",
        "from keras.layers.normalization import BatchNormalization\n",
        "from sklearn.preprocessing import LabelEncoder,OneHotEncoder\n",
        "from keras.utils import plot_model\n",
        "from IPython.display import Image, display\n",
        "from keras import backend as K\n",
        "from keras.preprocessing import image\n",
        "from keras.optimizers import SGD\n",
        "from keras.utils import to_categorical\n",
        "from sklearn.preprocessing import label_binarize\n",
        "from sklearn.model_selection import StratifiedKFold\n",
        "from keras.preprocessing.image import ImageDataGenerator\n",
        "from keras.utils import to_categorical\n",
        "from keras.callbacks import EarlyStopping, ModelCheckpoint, ReduceLROnPlateau, CSVLogger\n",
        "from sklearn.metrics import roc_curve\n",
        "from sklearn.metrics import roc_auc_score\n",
        "from matplotlib import pyplot\n",
        "from keras.utils import to_categorical\n",
        "from sklearn.metrics import roc_curve\n",
        "from sklearn.metrics import roc_auc_score\n",
        "\n",
        "from sklearn.preprocessing import MinMaxScaler\n",
        "\n",
        "from keras.applications.resnet50 import ResNet50\n",
        "\n",
        "warnings.filterwarnings(\"ignore\")"
      ],
      "execution_count": null,
      "outputs": [
        {
          "output_type": "stream",
          "text": [
            "Using TensorFlow backend.\n"
          ],
          "name": "stderr"
        }
      ]
    },
    {
      "cell_type": "code",
      "metadata": {
        "id": "LVxQcm643zWU"
      },
      "source": [
        "from google.colab import drive"
      ],
      "execution_count": null,
      "outputs": []
    },
    {
      "cell_type": "markdown",
      "metadata": {
        "id": "YfOT4KT_OONE"
      },
      "source": [
        "# **Mount drive for save outputs**\n",
        "**Let drive mount on your google drive and copy the code, go to colab and paste the code there**"
      ]
    },
    {
      "cell_type": "code",
      "metadata": {
        "id": "5rq-S4q5OMDh",
        "outputId": "313296f3-4f1f-4d98-fad1-4553a961223a",
        "colab": {
          "base_uri": "https://localhost:8080/",
          "height": 122
        }
      },
      "source": [
        "drive.mount('/content/drive', force_remount=True)"
      ],
      "execution_count": null,
      "outputs": [
        {
          "output_type": "stream",
          "text": [
            "Go to this URL in a browser: https://accounts.google.com/o/oauth2/auth?client_id=947318989803-6bn6qk8qdgf4n4g3pfee6491hc0brc4i.apps.googleusercontent.com&redirect_uri=urn%3Aietf%3Awg%3Aoauth%3A2.0%3Aoob&scope=email%20https%3A%2F%2Fwww.googleapis.com%2Fauth%2Fdocs.test%20https%3A%2F%2Fwww.googleapis.com%2Fauth%2Fdrive%20https%3A%2F%2Fwww.googleapis.com%2Fauth%2Fdrive.photos.readonly%20https%3A%2F%2Fwww.googleapis.com%2Fauth%2Fpeopleapi.readonly&response_type=code\n",
            "\n",
            "Enter your authorization code:\n",
            "··········\n",
            "Mounted at /content/drive\n"
          ],
          "name": "stdout"
        }
      ]
    },
    {
      "cell_type": "code",
      "metadata": {
        "id": "RAs8whhub17W",
        "outputId": "28c0037f-1c1f-4780-f375-d803805be333",
        "colab": {
          "base_uri": "https://localhost:8080/",
          "height": 34
        }
      },
      "source": [
        "%cd \"/content/drive/My Drive/NewData\""
      ],
      "execution_count": null,
      "outputs": [
        {
          "output_type": "stream",
          "text": [
            "/content/drive/My Drive/NewData\n"
          ],
          "name": "stdout"
        }
      ]
    },
    {
      "cell_type": "markdown",
      "metadata": {
        "id": "kaM2fm-9cOvH"
      },
      "source": [
        "# Load data labels y_data"
      ]
    },
    {
      "cell_type": "code",
      "metadata": {
        "id": "WAAwLC-dlDc7",
        "outputId": "4bb2a91d-bcf0-4114-bf49-8f152330fe15",
        "colab": {
          "base_uri": "https://localhost:8080/",
          "height": 34
        }
      },
      "source": [
        "#!ls\n",
        "PATH = os.getcwd()\n",
        "y_path = PATH+'/'\n",
        "y_batch = os.listdir(y_path)\n",
        "# Importing labels\n",
        "labels = pd.read_csv('classifications2.csv',delimiter=',', header=-1)\n",
        "\n",
        "y_data = np.array(labels, np.uint8)\n",
        "\n",
        "#y_data = y_data[:,1]\n",
        "#print(y_data[0,:])\n",
        "print (y_data.shape)"
      ],
      "execution_count": null,
      "outputs": [
        {
          "output_type": "stream",
          "text": [
            "(20000, 1)\n"
          ],
          "name": "stdout"
        }
      ]
    },
    {
      "cell_type": "markdown",
      "metadata": {
        "id": "0cOPDf1tlGno"
      },
      "source": [
        "# **Load x_data**\n",
        "\n",
        "\n",
        "https://fits2hdf.readthedocs.io/en/latest/getting_started.html\n",
        "\n",
        "\n",
        "\n",
        "https://python4astronomers.github.io/astropy/fits.html\n"
      ]
    },
    {
      "cell_type": "code",
      "metadata": {
        "id": "oQ9YXIUEG3Ai",
        "outputId": "f06b5bd3-bf84-4719-f662-eecada200cad",
        "colab": {
          "base_uri": "https://localhost:8080/",
          "height": 51
        }
      },
      "source": [
        "x_temp_data=fits.getdata(\"cubes.fits\")\n",
        "x_data = np.zeros((20000,101,101,1))\n",
        "\n",
        "x_data[:,:,:,0] = x_temp_data[:,:,:,0]\n",
        "#x_data[:,:,:,1] = x_temp_data[:,:,:,1]\n",
        "\n",
        "\n",
        "print(x_data.shape)\n",
        "\n",
        "  #image_orig= np.float32(image_dataR)\n",
        "  #image_rotsub_name='imageEUC_VIS-'+str(nmbimg)+'_rotsub.fits'\n",
        "  #image_rotsub = fits.getdata(image_rotsub_name)#, ext=0) %%\n",
        " \n",
        "  #x_data[i,:,:,1]=image_rotsub\n",
        "\n",
        "x_data = np.moveaxis(x_data, -1, 0) \n",
        "x_data = np.moveaxis(x_data, -3, 0)\n",
        "print(x_data.shape)"
      ],
      "execution_count": null,
      "outputs": [
        {
          "output_type": "stream",
          "text": [
            "(20000, 101, 101, 1)\n",
            "(20000, 1, 101, 101)\n"
          ],
          "name": "stdout"
        }
      ]
    },
    {
      "cell_type": "markdown",
      "metadata": {
        "id": "eQUwiaPMDfPr"
      },
      "source": [
        "# ** Preprocessing  data**\n",
        "\n",
        "\n",
        "Training, test and validation data"
      ]
    },
    {
      "cell_type": "code",
      "metadata": {
        "id": "9g42LZ8M-Uqb",
        "outputId": "d57c6ef4-1ece-4fb2-e28d-ddba3b4f1b1e",
        "colab": {
          "base_uri": "https://localhost:8080/",
          "height": 374
        }
      },
      "source": [
        "pVal = x_data.shape[0] / 100 * 10 # 10% data to validation \n",
        "x_val = x_data[1:int(pVal)+1,:,:,:]\n",
        "\n",
        "ptest = pVal * 3 # 30% data to test\n",
        "x_test = x_data[int(pVal)+2:(int(pVal)+2)+int(ptest)+1,:,:,:]\n",
        "\n",
        "x_train = x_data[int(ptest+pVal):x_data.shape[0],:,:,:]\n",
        "#x_train = x_data\n",
        "#print(x_val)\n",
        "print('Shape x ...')\n",
        "print(x_val.shape)\n",
        "print(x_test.shape)\n",
        "print(x_train.shape)\n",
        "\n",
        "y_val = y_data[1:int(pVal)+1,0]\n",
        "\n",
        "y_test = y_data[int(pVal)+2:(int(pVal)+2)+int(ptest)+1,0]\n",
        "\n",
        "y_train = y_data[int(ptest+pVal):x_data.shape[0],0]\n",
        " \n",
        "print('Shape y ...')\n",
        "print(y_val.shape)\n",
        "print(y_test.shape)\n",
        "print(y_train.shape)\n",
        "\n",
        "print (x_train[1,0,:,:])"
      ],
      "execution_count": null,
      "outputs": [
        {
          "output_type": "stream",
          "text": [
            "Shape x ...\n",
            "(2000, 1, 101, 101)\n",
            "(6001, 1, 101, 101)\n",
            "(12000, 1, 101, 101)\n",
            "Shape y ...\n",
            "(2000,)\n",
            "(6001,)\n",
            "(12000,)\n",
            "[[ 57.22544188  57.14465395  65.71274092 ...  21.12946512  99.13214967\n",
            "  100.        ]\n",
            " [ 58.99291945  12.66032758  54.2403093  ...  55.04718693  71.91114754\n",
            "   37.28007338]\n",
            " [ 71.86424146  28.63542338  48.07849027 ...  24.75434798  53.70436417\n",
            "    8.58578354]\n",
            " ...\n",
            " [ 83.92854698  51.13376638  16.83821866 ...  41.28710817  69.05373524\n",
            "   65.43526319]\n",
            " [100.          38.47920425  43.81225909 ...  35.62964917  42.31813592\n",
            "   31.07855535]\n",
            " [ 53.43646676  18.99689972  68.02820221 ...  25.19401662  67.29649846\n",
            "   33.87636477]]\n"
          ],
          "name": "stdout"
        }
      ]
    },
    {
      "cell_type": "markdown",
      "metadata": {
        "id": "hnHDeq5vBvyI"
      },
      "source": [
        "# Create Model Sequential"
      ]
    },
    {
      "cell_type": "code",
      "metadata": {
        "id": "tBXYgIf1fxjy",
        "outputId": "0f09edff-7439-47b0-d10c-027d0de2e4cd",
        "colab": {
          "base_uri": "https://localhost:8080/",
          "height": 445
        }
      },
      "source": [
        "model = Sequential()\n",
        "\n",
        "\n",
        "model.add(Convolution2D(64, (3, 3), input_shape=(x_data.shape[1],101,101), data_format='channels_first'))\n",
        "model.add(BatchNormalization())\n",
        "model.add(Activation('relu'))\n",
        "model.add(MaxPooling2D(pool_size=(2, 2),data_format='channels_first'))\n",
        "\n",
        "model.add(Convolution2D(128, (3, 3), data_format='channels_first')) \n",
        "model.add(BatchNormalization())\n",
        "model.add(Activation('relu'))\n",
        "model.add(MaxPooling2D(pool_size=(2, 2),data_format='channels_first'))\n",
        "\n",
        "model.add(Convolution2D(256, (3, 3), data_format='channels_first')) \n",
        "model.add(BatchNormalization())\n",
        "model.add(Activation('relu'))\n",
        "model.add(MaxPooling2D(pool_size=(2, 2),data_format='channels_first'))\n",
        "\n",
        "model.add(Convolution2D(512, (3, 3), data_format='channels_first')) \n",
        "model.add(BatchNormalization())\n",
        "model.add(Activation('relu'))\n",
        "model.add(MaxPooling2D(pool_size=(2, 2),data_format='channels_first'))\n",
        "\n",
        "#model.add(Dropout(0.5)) # 0.2\n",
        "model.add(Flatten())\n",
        "\n",
        "model.add(Dense(512)) \n",
        "model.add(BatchNormalization())\n",
        "model.add(Activation('relu'))\n",
        "model.add(Dense(256)) \n",
        "model.add(BatchNormalization())\n",
        "model.add(Activation('relu'))\n",
        "model.add(Dense(128))\n",
        "model.add(BatchNormalization())\n",
        "model.add(Activation('relu'))\n",
        "model.add(Dense(64)) \n",
        "model.add(BatchNormalization())\n",
        "model.add(Activation('relu'))\n",
        "model.add(Dense(2))\n",
        "model.add(Dense(2, activation= 'softmax' )) \n",
        "\n",
        "lr = 0.1\n",
        "sgd = SGD(lr=lr, decay=1e-5, momentum=0.9, nesterov=True)\n"
      ],
      "execution_count": null,
      "outputs": [
        {
          "output_type": "stream",
          "text": [
            "WARNING:tensorflow:From /usr/local/lib/python3.6/dist-packages/keras/backend/tensorflow_backend.py:66: The name tf.get_default_graph is deprecated. Please use tf.compat.v1.get_default_graph instead.\n",
            "\n",
            "WARNING:tensorflow:From /usr/local/lib/python3.6/dist-packages/keras/backend/tensorflow_backend.py:541: The name tf.placeholder is deprecated. Please use tf.compat.v1.placeholder instead.\n",
            "\n",
            "WARNING:tensorflow:From /usr/local/lib/python3.6/dist-packages/keras/backend/tensorflow_backend.py:4432: The name tf.random_uniform is deprecated. Please use tf.random.uniform instead.\n",
            "\n",
            "WARNING:tensorflow:From /usr/local/lib/python3.6/dist-packages/keras/backend/tensorflow_backend.py:190: The name tf.get_default_session is deprecated. Please use tf.compat.v1.get_default_session instead.\n",
            "\n",
            "WARNING:tensorflow:From /usr/local/lib/python3.6/dist-packages/keras/backend/tensorflow_backend.py:197: The name tf.ConfigProto is deprecated. Please use tf.compat.v1.ConfigProto instead.\n",
            "\n",
            "WARNING:tensorflow:From /usr/local/lib/python3.6/dist-packages/keras/backend/tensorflow_backend.py:203: The name tf.Session is deprecated. Please use tf.compat.v1.Session instead.\n",
            "\n",
            "WARNING:tensorflow:From /usr/local/lib/python3.6/dist-packages/keras/backend/tensorflow_backend.py:207: The name tf.global_variables is deprecated. Please use tf.compat.v1.global_variables instead.\n",
            "\n",
            "WARNING:tensorflow:From /usr/local/lib/python3.6/dist-packages/keras/backend/tensorflow_backend.py:216: The name tf.is_variable_initialized is deprecated. Please use tf.compat.v1.is_variable_initialized instead.\n",
            "\n",
            "WARNING:tensorflow:From /usr/local/lib/python3.6/dist-packages/keras/backend/tensorflow_backend.py:223: The name tf.variables_initializer is deprecated. Please use tf.compat.v1.variables_initializer instead.\n",
            "\n",
            "WARNING:tensorflow:From /usr/local/lib/python3.6/dist-packages/keras/backend/tensorflow_backend.py:2041: The name tf.nn.fused_batch_norm is deprecated. Please use tf.compat.v1.nn.fused_batch_norm instead.\n",
            "\n",
            "WARNING:tensorflow:From /usr/local/lib/python3.6/dist-packages/keras/backend/tensorflow_backend.py:148: The name tf.placeholder_with_default is deprecated. Please use tf.compat.v1.placeholder_with_default instead.\n",
            "\n",
            "WARNING:tensorflow:From /usr/local/lib/python3.6/dist-packages/keras/backend/tensorflow_backend.py:4267: The name tf.nn.max_pool is deprecated. Please use tf.nn.max_pool2d instead.\n",
            "\n"
          ],
          "name": "stdout"
        }
      ]
    },
    {
      "cell_type": "markdown",
      "metadata": {
        "id": "kEuu8MD_Nprs"
      },
      "source": [
        "**Compile Model:**"
      ]
    },
    {
      "cell_type": "code",
      "metadata": {
        "id": "K9862MedNoiO",
        "outputId": "fffdcb89-d466-4676-9922-44fbfe83888d",
        "colab": {
          "base_uri": "https://localhost:8080/",
          "height": 1000
        }
      },
      "source": [
        "#model.load_weights('Train_fold_3weights_50.h5', by_name=True) ## if load weighs from .h5\n",
        "\n",
        "model.compile(loss= 'binary_crossentropy' , optimizer=sgd , metrics=[ 'accuracy' ])\n",
        "model.summary()"
      ],
      "execution_count": null,
      "outputs": [
        {
          "output_type": "stream",
          "text": [
            "WARNING:tensorflow:From /usr/local/lib/python3.6/dist-packages/keras/optimizers.py:793: The name tf.train.Optimizer is deprecated. Please use tf.compat.v1.train.Optimizer instead.\n",
            "\n",
            "WARNING:tensorflow:From /usr/local/lib/python3.6/dist-packages/keras/backend/tensorflow_backend.py:3657: The name tf.log is deprecated. Please use tf.math.log instead.\n",
            "\n",
            "WARNING:tensorflow:From /usr/local/lib/python3.6/dist-packages/tensorflow_core/python/ops/nn_impl.py:183: where (from tensorflow.python.ops.array_ops) is deprecated and will be removed in a future version.\n",
            "Instructions for updating:\n",
            "Use tf.where in 2.0, which has the same broadcast rule as np.where\n",
            "Model: \"sequential_1\"\n",
            "_________________________________________________________________\n",
            "Layer (type)                 Output Shape              Param #   \n",
            "=================================================================\n",
            "conv2d_1 (Conv2D)            (None, 64, 99, 99)        640       \n",
            "_________________________________________________________________\n",
            "batch_normalization_1 (Batch (None, 64, 99, 99)        396       \n",
            "_________________________________________________________________\n",
            "activation_1 (Activation)    (None, 64, 99, 99)        0         \n",
            "_________________________________________________________________\n",
            "max_pooling2d_1 (MaxPooling2 (None, 64, 49, 49)        0         \n",
            "_________________________________________________________________\n",
            "conv2d_2 (Conv2D)            (None, 128, 47, 47)       73856     \n",
            "_________________________________________________________________\n",
            "batch_normalization_2 (Batch (None, 128, 47, 47)       188       \n",
            "_________________________________________________________________\n",
            "activation_2 (Activation)    (None, 128, 47, 47)       0         \n",
            "_________________________________________________________________\n",
            "max_pooling2d_2 (MaxPooling2 (None, 128, 23, 23)       0         \n",
            "_________________________________________________________________\n",
            "conv2d_3 (Conv2D)            (None, 256, 21, 21)       295168    \n",
            "_________________________________________________________________\n",
            "batch_normalization_3 (Batch (None, 256, 21, 21)       84        \n",
            "_________________________________________________________________\n",
            "activation_3 (Activation)    (None, 256, 21, 21)       0         \n",
            "_________________________________________________________________\n",
            "max_pooling2d_3 (MaxPooling2 (None, 256, 10, 10)       0         \n",
            "_________________________________________________________________\n",
            "conv2d_4 (Conv2D)            (None, 512, 8, 8)         1180160   \n",
            "_________________________________________________________________\n",
            "batch_normalization_4 (Batch (None, 512, 8, 8)         32        \n",
            "_________________________________________________________________\n",
            "activation_4 (Activation)    (None, 512, 8, 8)         0         \n",
            "_________________________________________________________________\n",
            "max_pooling2d_4 (MaxPooling2 (None, 512, 4, 4)         0         \n",
            "_________________________________________________________________\n",
            "flatten_1 (Flatten)          (None, 8192)              0         \n",
            "_________________________________________________________________\n",
            "dense_1 (Dense)              (None, 512)               4194816   \n",
            "_________________________________________________________________\n",
            "batch_normalization_5 (Batch (None, 512)               2048      \n",
            "_________________________________________________________________\n",
            "activation_5 (Activation)    (None, 512)               0         \n",
            "_________________________________________________________________\n",
            "dense_2 (Dense)              (None, 256)               131328    \n",
            "_________________________________________________________________\n",
            "batch_normalization_6 (Batch (None, 256)               1024      \n",
            "_________________________________________________________________\n",
            "activation_6 (Activation)    (None, 256)               0         \n",
            "_________________________________________________________________\n",
            "dense_3 (Dense)              (None, 128)               32896     \n",
            "_________________________________________________________________\n",
            "batch_normalization_7 (Batch (None, 128)               512       \n",
            "_________________________________________________________________\n",
            "activation_7 (Activation)    (None, 128)               0         \n",
            "_________________________________________________________________\n",
            "dense_4 (Dense)              (None, 64)                8256      \n",
            "_________________________________________________________________\n",
            "batch_normalization_8 (Batch (None, 64)                256       \n",
            "_________________________________________________________________\n",
            "activation_8 (Activation)    (None, 64)                0         \n",
            "_________________________________________________________________\n",
            "dense_5 (Dense)              (None, 2)                 130       \n",
            "_________________________________________________________________\n",
            "dense_6 (Dense)              (None, 2)                 6         \n",
            "=================================================================\n",
            "Total params: 5,921,796\n",
            "Trainable params: 5,919,526\n",
            "Non-trainable params: 2,270\n",
            "_________________________________________________________________\n"
          ],
          "name": "stdout"
        }
      ]
    },
    {
      "cell_type": "markdown",
      "metadata": {
        "id": "p_g2r43qMUyn"
      },
      "source": [
        "**In order to make the most of our few training examples, we will \"augment\" them via a number of random transformations, so that our model would never see twice the exact same picture. This helps prevent overfitting and helps the model generalize better. Data Augmentation:**"
      ]
    },
    {
      "cell_type": "code",
      "metadata": {
        "id": "ONs7UY2xRNN9"
      },
      "source": [
        "gen = ImageDataGenerator(rotation_range=90, zoom_range=[0.9,1], horizontal_flip=True, vertical_flip=True, fill_mode='wrap')"
      ],
      "execution_count": null,
      "outputs": []
    },
    {
      "cell_type": "markdown",
      "metadata": {
        "id": "TZEon0HmL7LH"
      },
      "source": [
        "**A callback is a set of functions to be applied at given stages of the training procedure. You can use callbacks to get a view on internal states and statistics of the model during training. Building  Callbacks:**"
      ]
    },
    {
      "cell_type": "code",
      "metadata": {
        "id": "oDEWsemlB6PX"
      },
      "source": [
        "def get_callbacks(name_weights, patience_lr, name_csv):\n",
        "    mcp_save = ModelCheckpoint(name_weights)\n",
        "    csv_logger = CSVLogger(name_csv)\n",
        "    reduce_lr_loss = ReduceLROnPlateau(monitor='loss', factor=0.1, patience=patience_lr, verbose=1, epsilon=1e-4, mode='max')\n",
        "    return [mcp_save, csv_logger, reduce_lr_loss]"
      ],
      "execution_count": null,
      "outputs": []
    },
    {
      "cell_type": "markdown",
      "metadata": {
        "id": "UxateFugL0vt"
      },
      "source": [
        "**Converts a class vector (integers) to binary class matrix:**"
      ]
    },
    {
      "cell_type": "code",
      "metadata": {
        "id": "qHGwe2X2b4n9"
      },
      "source": [
        "y_train = to_categorical(y_train)\n",
        "y_val = to_categorical(y_val)\n",
        "y_test = to_categorical(y_test)"
      ],
      "execution_count": null,
      "outputs": []
    },
    {
      "cell_type": "markdown",
      "metadata": {
        "id": "nAzYU72jB-ed"
      },
      "source": [
        "# Train\n",
        "\n",
        "Show graphics loss x epoch and acc x epoch"
      ]
    },
    {
      "cell_type": "code",
      "metadata": {
        "id": "KXqOAfGTIzJM",
        "outputId": "11ecb71d-6990-4ef4-a25e-651a1e8f2dfd",
        "colab": {
          "base_uri": "https://localhost:8080/",
          "height": 1000
        }
      },
      "source": [
        "\n",
        "batch_size=32\n",
        "start = time.perf_counter()\n",
        "\n",
        "# See https://www.tensorflow.org/tutorials/using_gpu#allowing_gpu_memory_growth\n",
        "# The first is the allow_growth option, which attempts to allocate only as much\n",
        "# GPU memory based on runtime allocations: it starts out allocating very little \n",
        "# memory, and as Sessions get run and more GPU memory is needed, we extend the GPU memory region needed by \n",
        "# the TensorFlow process. Note that we do not release memory, since that can lead \n",
        "# to even worse memory fragmentation. To turn this option on, set the option in the ConfigProto by:\n",
        "\n",
        "config = tf.ConfigProto()\n",
        "config.gpu_options.allow_growth = True\n",
        "\n",
        "sess = tf.Session(config=config)\n",
        "\n",
        "\n",
        "name_weights = \"Train_model_weights_{epoch:02d}.h5\"\n",
        "csv_name = \"trainning_k.csv\"\n",
        "callbacks = get_callbacks(name_weights = name_weights, patience_lr=10, name_csv = csv_name)\n",
        "generator = gen.flow(x_train, y_train, batch_size = batch_size)\n",
        "# change epochs\n",
        "\n",
        "\n",
        "history = model.fit_generator(\n",
        "                  generator,\n",
        "                  steps_per_epoch=len(x_train)/batch_size,\n",
        "                  epochs=35,\n",
        "                  verbose=1,\n",
        "                  validation_data = (x_val, y_val),\n",
        "                  validation_steps = len(x_val),\n",
        "                  callbacks = callbacks)\n",
        "      \n",
        "      \n",
        "###### Plot training & validation accuracy values\n",
        "plt.figure()\n",
        "plt.plot(history.history['acc'])\n",
        "plt.plot(history.history['val_acc'])\n",
        "plt.title('Model accuracy ' )\n",
        "plt.ylabel('Accuracy')\n",
        "plt.xlabel('Epoch')\n",
        "plt.legend(['Train', 'Valid'], loc='upper left')\n",
        "plt.show()\n",
        "plt.savefig(\"AccxEpoch.png\")\n",
        "\n",
        "###### Plot training & validation loss values\n",
        "plt.figure()\n",
        "plt.plot(history.history['loss'])\n",
        "plt.plot(history.history['val_loss'])\n",
        "plt.title('Model loss ')\n",
        "plt.ylabel('Loss')\n",
        "plt.xlabel('Epoch')\n",
        "plt.legend(['Train', 'Valid'], loc='upper left')\n",
        "plt.show()\n",
        "plt.savefig(\"LossxEpoch.png\")\n",
        "\n",
        "\n",
        "sess.close()\n",
        "\n",
        "elapsed = time.perf_counter() - start\n",
        "print('Elapsed %.3f seconds.' % elapsed)            "
      ],
      "execution_count": null,
      "outputs": [
        {
          "output_type": "stream",
          "text": [
            "WARNING:tensorflow:From /usr/local/lib/python3.6/dist-packages/keras/backend/tensorflow_backend.py:1033: The name tf.assign_add is deprecated. Please use tf.compat.v1.assign_add instead.\n",
            "\n",
            "WARNING:tensorflow:From /usr/local/lib/python3.6/dist-packages/keras/backend/tensorflow_backend.py:1020: The name tf.assign is deprecated. Please use tf.compat.v1.assign instead.\n",
            "\n",
            "Epoch 1/35\n",
            "375/375 [==============================] - 77s 205ms/step - loss: 0.5738 - acc: 0.7123 - val_loss: 0.6791 - val_acc: 0.7010\n",
            "Epoch 2/35\n",
            "375/375 [==============================] - 63s 167ms/step - loss: 0.5410 - acc: 0.7349 - val_loss: 0.8663 - val_acc: 0.7010\n",
            "Epoch 3/35\n",
            "375/375 [==============================] - 63s 167ms/step - loss: 0.5321 - acc: 0.7423 - val_loss: 1.2105 - val_acc: 0.7010\n",
            "Epoch 4/35\n",
            "375/375 [==============================] - 63s 168ms/step - loss: 0.5174 - acc: 0.7511 - val_loss: 1.0901 - val_acc: 0.7010\n",
            "Epoch 5/35\n",
            "375/375 [==============================] - 64s 170ms/step - loss: 0.5089 - acc: 0.7597 - val_loss: 2.8259 - val_acc: 0.7010\n",
            "Epoch 6/35\n",
            "375/375 [==============================] - 65s 172ms/step - loss: 0.5026 - acc: 0.7592 - val_loss: 1.1686 - val_acc: 0.7010\n",
            "Epoch 7/35\n",
            "375/375 [==============================] - 64s 172ms/step - loss: 0.4984 - acc: 0.7613 - val_loss: 0.6754 - val_acc: 0.7010\n",
            "Epoch 8/35\n",
            "375/375 [==============================] - 64s 170ms/step - loss: 0.4953 - acc: 0.7595 - val_loss: 2.0115 - val_acc: 0.7010\n",
            "Epoch 9/35\n",
            "375/375 [==============================] - 65s 172ms/step - loss: 0.4904 - acc: 0.7660 - val_loss: 0.6005 - val_acc: 0.7010\n",
            "Epoch 10/35\n",
            "375/375 [==============================] - 65s 173ms/step - loss: 0.4848 - acc: 0.7597 - val_loss: 0.8756 - val_acc: 0.7010\n",
            "Epoch 11/35\n",
            "375/375 [==============================] - 65s 172ms/step - loss: 0.4758 - acc: 0.7675 - val_loss: 0.5679 - val_acc: 0.7010\n",
            "\n",
            "Epoch 00011: ReduceLROnPlateau reducing learning rate to 0.010000000149011612.\n",
            "Epoch 12/35\n",
            "375/375 [==============================] - 63s 167ms/step - loss: 0.4564 - acc: 0.7744 - val_loss: 0.4492 - val_acc: 0.7780\n",
            "Epoch 13/35\n",
            "375/375 [==============================] - 63s 168ms/step - loss: 0.4527 - acc: 0.7785 - val_loss: 0.5981 - val_acc: 0.7015\n",
            "Epoch 14/35\n",
            "375/375 [==============================] - 63s 168ms/step - loss: 0.4501 - acc: 0.7789 - val_loss: 0.4646 - val_acc: 0.7630\n",
            "Epoch 15/35\n",
            "375/375 [==============================] - 63s 168ms/step - loss: 0.4494 - acc: 0.7803 - val_loss: 0.4411 - val_acc: 0.7815\n",
            "Epoch 16/35\n",
            "375/375 [==============================] - 64s 171ms/step - loss: 0.4466 - acc: 0.7794 - val_loss: 0.6497 - val_acc: 0.6580\n",
            "Epoch 17/35\n",
            "375/375 [==============================] - 65s 174ms/step - loss: 0.4477 - acc: 0.7806 - val_loss: 0.4470 - val_acc: 0.7920\n",
            "Epoch 18/35\n",
            "375/375 [==============================] - 65s 173ms/step - loss: 0.4497 - acc: 0.7816 - val_loss: 0.7450 - val_acc: 0.7010\n",
            "Epoch 19/35\n",
            "375/375 [==============================] - 66s 175ms/step - loss: 0.4455 - acc: 0.7797 - val_loss: 0.4691 - val_acc: 0.7730\n",
            "Epoch 20/35\n",
            "375/375 [==============================] - 65s 174ms/step - loss: 0.4415 - acc: 0.7821 - val_loss: 0.6744 - val_acc: 0.6305\n",
            "Epoch 21/35\n",
            "375/375 [==============================] - 64s 171ms/step - loss: 0.4442 - acc: 0.7824 - val_loss: 0.5005 - val_acc: 0.7360\n",
            "\n",
            "Epoch 00021: ReduceLROnPlateau reducing learning rate to 0.0009999999776482583.\n",
            "Epoch 22/35\n",
            "375/375 [==============================] - 64s 171ms/step - loss: 0.4381 - acc: 0.7832 - val_loss: 0.4218 - val_acc: 0.7930\n",
            "Epoch 23/35\n",
            "375/375 [==============================] - 65s 174ms/step - loss: 0.4380 - acc: 0.7807 - val_loss: 0.4245 - val_acc: 0.7920\n",
            "Epoch 24/35\n",
            "375/375 [==============================] - 65s 174ms/step - loss: 0.4388 - acc: 0.7837 - val_loss: 0.4511 - val_acc: 0.7660\n",
            "Epoch 25/35\n",
            "375/375 [==============================] - 65s 174ms/step - loss: 0.4397 - acc: 0.7832 - val_loss: 0.4225 - val_acc: 0.7935\n",
            "Epoch 26/35\n",
            "375/375 [==============================] - 66s 175ms/step - loss: 0.4384 - acc: 0.7824 - val_loss: 0.4426 - val_acc: 0.7675\n",
            "Epoch 27/35\n",
            "375/375 [==============================] - 65s 174ms/step - loss: 0.4385 - acc: 0.7847 - val_loss: 0.4221 - val_acc: 0.7920\n",
            "Epoch 28/35\n",
            "375/375 [==============================] - 65s 173ms/step - loss: 0.4348 - acc: 0.7844 - val_loss: 0.4413 - val_acc: 0.7745\n",
            "Epoch 29/35\n",
            "375/375 [==============================] - 64s 172ms/step - loss: 0.4402 - acc: 0.7814 - val_loss: 0.4230 - val_acc: 0.7935\n",
            "Epoch 30/35\n",
            "375/375 [==============================] - 65s 173ms/step - loss: 0.4341 - acc: 0.7876 - val_loss: 0.4499 - val_acc: 0.7630\n",
            "Epoch 31/35\n",
            "375/375 [==============================] - 64s 171ms/step - loss: 0.4359 - acc: 0.7852 - val_loss: 0.4362 - val_acc: 0.7765\n",
            "\n",
            "Epoch 00031: ReduceLROnPlateau reducing learning rate to 9.999999310821295e-05.\n",
            "Epoch 32/35\n",
            "375/375 [==============================] - 64s 172ms/step - loss: 0.4351 - acc: 0.7824 - val_loss: 0.4309 - val_acc: 0.7810\n",
            "Epoch 33/35\n",
            "375/375 [==============================] - 65s 173ms/step - loss: 0.4399 - acc: 0.7817 - val_loss: 0.4316 - val_acc: 0.7830\n",
            "Epoch 34/35\n",
            "375/375 [==============================] - 66s 175ms/step - loss: 0.4371 - acc: 0.7817 - val_loss: 0.4307 - val_acc: 0.7840\n",
            "Epoch 35/35\n",
            "375/375 [==============================] - 65s 173ms/step - loss: 0.4332 - acc: 0.7863 - val_loss: 0.4291 - val_acc: 0.7855\n"
          ],
          "name": "stdout"
        },
        {
          "output_type": "display_data",
          "data": {
            "image/png": "[encoded data removed]",
            "text/plain": [
              "<Figure size 432x288 with 1 Axes>"
            ]
          },
          "metadata": {
            "tags": []
          }
        },
        {
          "output_type": "display_data",
          "data": {
            "text/plain": [
              "<Figure size 432x288 with 0 Axes>"
            ]
          },
          "metadata": {
            "tags": []
          }
        },
        {
          "output_type": "display_data",
          "data": {
            "image/png": "[encoded data removed]",
            "text/plain": [
              "<Figure size 432x288 with 1 Axes>"
            ]
          },
          "metadata": {
            "tags": []
          }
        },
        {
          "output_type": "stream",
          "text": [
            "Elapsed 2343.883 seconds.\n"
          ],
          "name": "stdout"
        },
        {
          "output_type": "display_data",
          "data": {
            "text/plain": [
              "<Figure size 432x288 with 0 Axes>"
            ]
          },
          "metadata": {
            "tags": []
          }
        }
      ]
    },
    {
      "cell_type": "code",
      "metadata": {
        "id": "IKWel_dGgZHY",
        "outputId": "86e79d1a-1200-48ec-e9a9-0fb004606765",
        "colab": {
          "base_uri": "https://localhost:8080/",
          "height": 340
        }
      },
      "source": [
        "#print(model.evaluate(x_test, y_test)) \n",
        "      \n",
        "probs = model.predict_proba(x_test)\n",
        "######## keep probabilities for the positive outcome only\n",
        "probsp = probs[:, 1]\n",
        "######## calculate AUC\n",
        "auc = roc_auc_score(y_test[:,1], probsp)\n",
        "print('AUC: %.3f' % auc)\n",
        "\n",
        "      \n",
        "######## calculate roc curve\n",
        "fpr, tpr, thresholds = roc_curve(y_test[:,1], probsp)\n",
        "\n",
        "\n",
        "plt.figure()\n",
        "plt.plot([0, 1], [0, 1], 'k--') # k = color black\n",
        "plt.plot(fpr, tpr, label=\"AUC: %.3f\" % auc, color='C1', linewidth=3) # for color 'C'+str(j), for j[0 9]\n",
        "plt.legend(bbox_to_anchor=(0., 1.02, 1., .102), loc='lower left', ncol=2, mode=\"expand\", borderaxespad=0.)\n",
        "plt.title('ROC')\n",
        "plt.xlabel('false positive rate', fontsize=14)\n",
        "plt.ylabel('true positive rate', fontsize=14)\n",
        "    \n",
        "plt.show()\n",
        "plt.savefig(\"ROCLensDetectNet.png\")"
      ],
      "execution_count": null,
      "outputs": [
        {
          "output_type": "stream",
          "text": [
            "AUC: 0.862\n"
          ],
          "name": "stdout"
        },
        {
          "output_type": "display_data",
          "data": {
            "image/png": "[encoded data removed]",
            "text/plain": [
              "<Figure size 432x288 with 1 Axes>"
            ]
          },
          "metadata": {
            "tags": []
          }
        },
        {
          "output_type": "display_data",
          "data": {
            "text/plain": [
              "<Figure size 432x288 with 0 Axes>"
            ]
          },
          "metadata": {
            "tags": []
          }
        }
      ]
    },
    {
      "cell_type": "code",
      "metadata": {
        "id": "6ehhBhdwmnuF",
        "outputId": "ec701990-a57b-48a5-9b3c-75e45ba2a575",
        "colab": {
          "base_uri": "https://localhost:8080/",
          "height": 34
        }
      },
      "source": [
        "# Final evaluation of the model\n",
        "scores = model.evaluate(x_test, y_test, verbose=0)\n",
        "print(\"Large CNN Error: %.2f%%\" % (100-scores[1]*100))"
      ],
      "execution_count": null,
      "outputs": [
        {
          "output_type": "stream",
          "text": [
            "Large CNN Error: 20.63%\n"
          ],
          "name": "stdout"
        }
      ]
    },
    {
      "cell_type": "code",
      "metadata": {
        "id": "MNlk3H8InU4L",
        "outputId": "6e0d72d3-2e97-43c0-b7a5-f2f63ee84ae9",
        "colab": {
          "base_uri": "https://localhost:8080/",
          "height": 289
        }
      },
      "source": [
        "import matplotlib.pyplot as plt\n",
        "# Predict single images\n",
        "n_images = 8\n",
        "# Get images from test set\n",
        "test_images = x_test[:n_images]\n",
        "# Predicts\n",
        "# Use the model to predict the images class\n",
        "preds = list(model.predict_proba(test_images))\n",
        "# print(\"Large CNN Error: %.2f%%\" % (100-scores[1]*100))\n",
        "# Display\n",
        "vout = (0,255)\n",
        "for i in range(n_images):\n",
        "    output=np.where(preds[i]==preds[i].max())\n",
        "    print(\"Model prediction:\", output[0][0])\n",
        "    #print(y_test[:,1])\n",
        "    print(\"Real:\", np.uint8(y_test[i,1]))"
      ],
      "execution_count": null,
      "outputs": [
        {
          "output_type": "stream",
          "text": [
            "Model prediction: 1\n",
            "Real: 1\n",
            "Model prediction: 0\n",
            "Real: 1\n",
            "Model prediction: 1\n",
            "Real: 1\n",
            "Model prediction: 0\n",
            "Real: 0\n",
            "Model prediction: 1\n",
            "Real: 1\n",
            "Model prediction: 0\n",
            "Real: 0\n",
            "Model prediction: 1\n",
            "Real: 1\n",
            "Model prediction: 1\n",
            "Real: 0\n"
          ],
          "name": "stdout"
        }
      ]
    }
  ]
}