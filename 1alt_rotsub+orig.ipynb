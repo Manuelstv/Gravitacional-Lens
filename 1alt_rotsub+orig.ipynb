{
  "nbformat": 4,
  "nbformat_minor": 0,
  "metadata": {
    "colab": {
      "name": "1alt_rotsub+orig.ipynb",
      "provenance": [],
      "collapsed_sections": [],
      "include_colab_link": true
    },
    "kernelspec": {
      "name": "python3",
      "display_name": "Python 3"
    },
    "accelerator": "GPU"
  },
  "cells": [
    {
      "cell_type": "markdown",
      "metadata": {
        "id": "view-in-github",
        "colab_type": "text"
      },
      "source": [
        "<a href=\"https://colab.research.google.com/github/Manuelstv/astro-ml/blob/main/1alt_rotsub%2Borig.ipynb\" target=\"_parent\"><img src=\"https://colab.research.google.com/assets/colab-badge.svg\" alt=\"Open In Colab\"/></a>"
      ]
    },
    {
      "cell_type": "markdown",
      "metadata": {
        "id": "VJwcQrEjJpC5"
      },
      "source": [
        "# **Project Colab LensDetectNet**\n",
        "\n",
        "---\n",
        "\n",
        "**Convolutional Neural Network to Detect Lens in Image .fits**\n",
        "\n",
        "---\n",
        "\n",
        "\n",
        "\n"
      ]
    },
    {
      "cell_type": "code",
      "metadata": {
        "id": "T0k8C-sUx0_V"
      },
      "source": [
        "#install libraries\n",
        "#%matplotlib inline\n",
        "!apt-get -y install -qq graphviz\n",
        "!pip install -U -q astropy\n",
        "!pip install -U -q pydot\n",
        "!pip install -U -q pydot_ng\n",
        "!pip install -U -q graphviz"
      ],
      "execution_count": null,
      "outputs": []
    },
    {
      "cell_type": "code",
      "metadata": {
        "id": "aAOB_BFmGBuk",
        "outputId": "bf4c7b68-0553-4bc4-c881-020377b0d949",
        "colab": {
          "base_uri": "https://localhost:8080/",
          "height": 35
        }
      },
      "source": [
        "# import libraries\n",
        "import matplotlib.pyplot as plt\n",
        "import pandas as pd # data processing, CSV file I/O (e.g. pd.read_csv)\n",
        "import numpy as np\n",
        "import pylab as py\n",
        "import cv2\n",
        "import h5py\n",
        "\n",
        "import scipy\n",
        "import scipy.misc\n",
        "import warnings\n",
        "import os\n",
        "import keras\n",
        "import pydot\n",
        "import pydot_ng\n",
        "import time\n",
        "import tensorflow as tf\n",
        "import timeit\n",
        "import matplotlib.pyplot as plt\n",
        "\n",
        "\n",
        "from google.colab import drive\n",
        "from google.colab import files\n",
        "from astropy.io import fits\n",
        "from keras import models\n",
        "from keras.models import Sequential\n",
        "from keras import layers\n",
        "from keras.layers import Convolution2D\n",
        "from keras.layers import MaxPooling2D\n",
        "from keras.layers import Dense, Dropout, Flatten, Activation\n",
        "from keras.layers.normalization import BatchNormalization\n",
        "from sklearn.preprocessing import LabelEncoder,OneHotEncoder\n",
        "from keras.utils import plot_model\n",
        "from IPython.display import Image, display\n",
        "from keras import backend as K\n",
        "from keras.preprocessing import image\n",
        "from keras.optimizers import SGD\n",
        "from keras.utils import to_categorical\n",
        "from sklearn.preprocessing import label_binarize\n",
        "from sklearn.model_selection import StratifiedKFold\n",
        "from keras.preprocessing.image import ImageDataGenerator\n",
        "from keras.utils import to_categorical\n",
        "from keras.callbacks import EarlyStopping, ModelCheckpoint, ReduceLROnPlateau, CSVLogger\n",
        "from sklearn.metrics import roc_curve\n",
        "from sklearn.metrics import roc_auc_score\n",
        "from matplotlib import pyplot\n",
        "from keras.utils import to_categorical\n",
        "from sklearn.metrics import roc_curve\n",
        "from sklearn.metrics import roc_auc_score\n",
        "\n",
        "from sklearn.preprocessing import MinMaxScaler\n",
        "\n",
        "from keras.applications.resnet50 import ResNet50\n",
        "\n",
        "warnings.filterwarnings(\"ignore\")\n",
        "\n",
        "\n",
        "\n"
      ],
      "execution_count": null,
      "outputs": [
        {
          "output_type": "stream",
          "text": [
            "Using TensorFlow backend.\n"
          ],
          "name": "stderr"
        }
      ]
    },
    {
      "cell_type": "code",
      "metadata": {
        "id": "LVxQcm643zWU"
      },
      "source": [
        "from google.colab import drive"
      ],
      "execution_count": null,
      "outputs": []
    },
    {
      "cell_type": "markdown",
      "metadata": {
        "id": "YfOT4KT_OONE"
      },
      "source": [
        "# **Mount drive for save outputs**\n",
        "**Let drive mount on your google drive and copy the code, go to colab and paste the code there**"
      ]
    },
    {
      "cell_type": "code",
      "metadata": {
        "id": "5rq-S4q5OMDh",
        "outputId": "2a216607-2345-4ff1-ff44-b29887b8307d",
        "colab": {
          "base_uri": "https://localhost:8080/",
          "height": 35
        }
      },
      "source": [
        "drive.mount('/content/drive')"
      ],
      "execution_count": null,
      "outputs": [
        {
          "output_type": "stream",
          "text": [
            "Drive already mounted at /content/drive; to attempt to forcibly remount, call drive.mount(\"/content/drive\", force_remount=True).\n"
          ],
          "name": "stdout"
        }
      ]
    },
    {
      "cell_type": "code",
      "metadata": {
        "id": "RAs8whhub17W",
        "outputId": "8f26572b-478f-4bf8-aa8d-f72e1ef2978e",
        "colab": {
          "base_uri": "https://localhost:8080/",
          "height": 35
        }
      },
      "source": [
        "%cd \"/content/drive/My Drive/NewData/SpaceBasedTraining/Data/agrupp\""
      ],
      "execution_count": null,
      "outputs": [
        {
          "output_type": "stream",
          "text": [
            "/content/drive/My Drive/NewData/SpaceBasedTraining/Data/agrupp\n"
          ],
          "name": "stdout"
        }
      ]
    },
    {
      "cell_type": "markdown",
      "metadata": {
        "id": "kaM2fm-9cOvH"
      },
      "source": [
        "# Load data labels y_data"
      ]
    },
    {
      "cell_type": "code",
      "metadata": {
        "id": "WAAwLC-dlDc7"
      },
      "source": [
        "#!ls\n",
        "PATH = os.getcwd()\n",
        "y_path = PATH+'/'\n",
        "y_batch = os.listdir(y_path)\n",
        "# Importing labels\n",
        "labels = pd.read_csv('classifications2.csv',delimiter=',', header=-1)\n",
        "\n",
        "y_data = np.array(labels, np.uint8)\n",
        "\n",
        "#y_data = y_data[:,1]\n",
        "#print(y_data[0,:])"
      ],
      "execution_count": null,
      "outputs": []
    },
    {
      "cell_type": "markdown",
      "metadata": {
        "id": "0cOPDf1tlGno"
      },
      "source": [
        "# **Load x_data**\n",
        "\n",
        "\n",
        "https://fits2hdf.readthedocs.io/en/latest/getting_started.html\n",
        "\n",
        "\n",
        "\n",
        "https://python4astronomers.github.io/astropy/fits.html\n"
      ]
    },
    {
      "cell_type": "code",
      "metadata": {
        "id": "oQ9YXIUEG3Ai",
        "outputId": "50a1064a-1213-4add-a352-679fff86fc93",
        "colab": {
          "base_uri": "https://localhost:8080/",
          "height": 1000
        }
      },
      "source": [
        "## load x_data\n",
        "#import h5py\n",
        "\n",
        "#original_data=np.zeros(100)\n",
        "#id=0\n",
        "#while (id<101):\n",
        "#  a = 100000 + id\n",
        "#  original_data[id]=fits.getdata('imageEUC_VIS-'+str(a)+'.fits', ignore_missing_end=True)\n",
        "#id =id+1\n",
        "\n",
        "#x_data=np.zeros((100,101,101,2))\n",
        "x_data=np.zeros((20000,101,101,2))\n",
        "print(x_data.shape)\n",
        "\n",
        "for i in np.arange(0,20000,1):\n",
        "  nmbimg=100000 + i\n",
        "  image_orig_name =  'imageEUC_VIS-'+str(nmbimg)+'_rotsub.fits'\n",
        "  image_orig_name2 =  'imageEUC_VIS-'+str(nmbimg)+'.fits'\n",
        "\n",
        "  image_orig = fits.getdata(image_orig_name)#, ext=0)\n",
        "  image_orig2 = fits.getdata(image_orig_name2)#, ext=0)\n",
        "  \n",
        "  scaler = MinMaxScaler(feature_range=(0, 100))\n",
        "  image_orig = scaler.fit_transform(image_orig)\n",
        "  image_orig2 = scaler.fit_transform(image_orig2)\n",
        "\n",
        "  #image_orig= np.float32(image_dataR)\n",
        "  #image_rotsub_name='imageEUC_VIS-'+str(nmbimg)+'_rotsub.fits'\n",
        "  #image_rotsub = fits.getdata(image_rotsub_name)#, ext=0) %%\n",
        "  x_data[i,:,:,0]=image_orig\n",
        "  x_data[i,:,:,1] =image_orig2\n",
        "  \n",
        "  #x_data[i,:,:,1]=image_rotsub\n",
        "  \n",
        "  if (i%50 == 0):\n",
        "    print (i)\n",
        "  \n",
        "\n",
        "\n",
        "#x_datasaved = h5py.File('x_data20000fits.h5', 'r')\n",
        "#x_data = x_datasaved['data']\n",
        "#print(x_data.shape)\n",
        "\n",
        "#print(x_data[99,:,:,1])\n",
        "\n",
        "# change shape\n",
        "x_data = np.moveaxis(x_data, -1, 0) \n",
        "x_data = np.moveaxis(x_data, -3, 0)\n",
        "print(x_data.shape)\n"
      ],
      "execution_count": null,
      "outputs": [
        {
          "output_type": "stream",
          "text": [
            "(20000, 101, 101, 2)\n",
            "0\n",
            "50\n",
            "100\n",
            "150\n",
            "200\n",
            "250\n",
            "300\n",
            "350\n",
            "400\n",
            "450\n",
            "500\n",
            "550\n",
            "600\n",
            "650\n",
            "700\n",
            "750\n",
            "800\n",
            "850\n",
            "900\n",
            "950\n",
            "1000\n",
            "1050\n",
            "1100\n",
            "1150\n",
            "1200\n",
            "1250\n",
            "1300\n",
            "1350\n",
            "1400\n",
            "1450\n",
            "1500\n",
            "1550\n",
            "1600\n",
            "1650\n",
            "1700\n",
            "1750\n",
            "1800\n",
            "1850\n",
            "1900\n",
            "1950\n",
            "2000\n",
            "2050\n",
            "2100\n",
            "2150\n",
            "2200\n",
            "2250\n",
            "2300\n",
            "2350\n",
            "2400\n",
            "2450\n",
            "2500\n",
            "2550\n",
            "2600\n",
            "2650\n",
            "2700\n",
            "2750\n",
            "2800\n",
            "2850\n",
            "2900\n",
            "2950\n",
            "3000\n",
            "3050\n",
            "3100\n",
            "3150\n",
            "3200\n",
            "3250\n",
            "3300\n",
            "3350\n",
            "3400\n",
            "3450\n",
            "3500\n",
            "3550\n",
            "3600\n",
            "3650\n",
            "3700\n",
            "3750\n",
            "3800\n",
            "3850\n",
            "3900\n",
            "3950\n",
            "4000\n",
            "4050\n",
            "4100\n",
            "4150\n",
            "4200\n",
            "4250\n",
            "4300\n",
            "4350\n",
            "4400\n",
            "4450\n",
            "4500\n",
            "4550\n",
            "4600\n",
            "4650\n",
            "4700\n",
            "4750\n",
            "4800\n",
            "4850\n",
            "4900\n",
            "4950\n",
            "5000\n",
            "5050\n",
            "5100\n",
            "5150\n",
            "5200\n",
            "5250\n",
            "5300\n",
            "5350\n",
            "5400\n",
            "5450\n",
            "5500\n",
            "5550\n",
            "5600\n",
            "5650\n",
            "5700\n",
            "5750\n",
            "5800\n",
            "5850\n",
            "5900\n",
            "5950\n",
            "6000\n",
            "6050\n",
            "6100\n",
            "6150\n",
            "6200\n",
            "6250\n",
            "6300\n",
            "6350\n",
            "6400\n",
            "6450\n",
            "6500\n",
            "6550\n",
            "6600\n",
            "6650\n",
            "6700\n",
            "6750\n",
            "6800\n",
            "6850\n",
            "6900\n",
            "6950\n",
            "7000\n",
            "7050\n",
            "7100\n",
            "7150\n",
            "7200\n",
            "7250\n",
            "7300\n",
            "7350\n",
            "7400\n",
            "7450\n",
            "7500\n",
            "7550\n",
            "7600\n",
            "7650\n",
            "7700\n",
            "7750\n",
            "7800\n",
            "7850\n",
            "7900\n",
            "7950\n",
            "8000\n",
            "8050\n",
            "8100\n",
            "8150\n",
            "8200\n",
            "8250\n",
            "8300\n",
            "8350\n",
            "8400\n",
            "8450\n",
            "8500\n",
            "8550\n",
            "8600\n",
            "8650\n",
            "8700\n",
            "8750\n",
            "8800\n",
            "8850\n",
            "8900\n",
            "8950\n",
            "9000\n",
            "9050\n",
            "9100\n",
            "9150\n",
            "9200\n",
            "9250\n",
            "9300\n",
            "9350\n",
            "9400\n",
            "9450\n",
            "9500\n",
            "9550\n",
            "9600\n",
            "9650\n",
            "9700\n",
            "9750\n",
            "9800\n",
            "9850\n",
            "9900\n",
            "9950\n",
            "10000\n",
            "10050\n",
            "10100\n",
            "10150\n",
            "10200\n",
            "10250\n",
            "10300\n",
            "10350\n",
            "10400\n",
            "10450\n",
            "10500\n",
            "10550\n",
            "10600\n",
            "10650\n",
            "10700\n",
            "10750\n",
            "10800\n",
            "10850\n",
            "10900\n",
            "10950\n",
            "11000\n",
            "11050\n",
            "11100\n",
            "11150\n",
            "11200\n",
            "11250\n",
            "11300\n",
            "11350\n",
            "11400\n",
            "11450\n",
            "11500\n",
            "11550\n",
            "11600\n",
            "11650\n",
            "11700\n",
            "11750\n",
            "11800\n",
            "11850\n",
            "11900\n",
            "11950\n",
            "12000\n",
            "12050\n",
            "12100\n",
            "12150\n",
            "12200\n",
            "12250\n",
            "12300\n",
            "12350\n",
            "12400\n",
            "12450\n",
            "12500\n",
            "12550\n",
            "12600\n",
            "12650\n",
            "12700\n",
            "12750\n",
            "12800\n",
            "12850\n",
            "12900\n",
            "12950\n",
            "13000\n",
            "13050\n",
            "13100\n",
            "13150\n",
            "13200\n",
            "13250\n",
            "13300\n",
            "13350\n",
            "13400\n",
            "13450\n",
            "13500\n",
            "13550\n",
            "13600\n",
            "13650\n",
            "13700\n",
            "13750\n",
            "13800\n",
            "13850\n",
            "13900\n",
            "13950\n",
            "14000\n",
            "14050\n",
            "14100\n",
            "14150\n",
            "14200\n",
            "14250\n",
            "14300\n",
            "14350\n",
            "14400\n",
            "14450\n",
            "14500\n",
            "14550\n",
            "14600\n",
            "14650\n",
            "14700\n",
            "14750\n",
            "14800\n",
            "14850\n",
            "14900\n",
            "14950\n",
            "15000\n",
            "15050\n",
            "15100\n",
            "15150\n",
            "15200\n",
            "15250\n",
            "15300\n",
            "15350\n",
            "15400\n",
            "15450\n",
            "15500\n",
            "15550\n",
            "15600\n",
            "15650\n",
            "15700\n",
            "15750\n",
            "15800\n",
            "15850\n",
            "15900\n",
            "15950\n",
            "16000\n",
            "16050\n",
            "16100\n",
            "16150\n",
            "16200\n",
            "16250\n",
            "16300\n",
            "16350\n",
            "16400\n",
            "16450\n",
            "16500\n",
            "16550\n",
            "16600\n",
            "16650\n",
            "16700\n",
            "16750\n",
            "16800\n",
            "16850\n",
            "16900\n",
            "16950\n",
            "17000\n",
            "17050\n",
            "17100\n",
            "17150\n",
            "17200\n",
            "17250\n",
            "17300\n",
            "17350\n",
            "17400\n",
            "17450\n",
            "17500\n",
            "17550\n",
            "17600\n",
            "17650\n",
            "17700\n",
            "17750\n",
            "17800\n",
            "17850\n",
            "17900\n",
            "17950\n",
            "18000\n",
            "18050\n",
            "18100\n",
            "18150\n",
            "18200\n",
            "18250\n",
            "18300\n",
            "18350\n",
            "18400\n",
            "18450\n",
            "18500\n",
            "18550\n",
            "18600\n",
            "18650\n",
            "18700\n",
            "18750\n",
            "18800\n",
            "18850\n",
            "18900\n",
            "18950\n",
            "19000\n",
            "19050\n",
            "19100\n",
            "19150\n",
            "19200\n",
            "19250\n",
            "19300\n",
            "19350\n",
            "19400\n",
            "19450\n",
            "19500\n",
            "19550\n",
            "19600\n",
            "19650\n",
            "19700\n",
            "19750\n",
            "19800\n",
            "19850\n",
            "19900\n",
            "19950\n",
            "(20000, 2, 101, 101)\n"
          ],
          "name": "stdout"
        }
      ]
    },
    {
      "cell_type": "code",
      "metadata": {
        "id": "WtqZ7w4kUHM9",
        "outputId": "0da37626-ab81-47cc-c111-e67d5d75980b",
        "colab": {
          "base_uri": "https://localhost:8080/",
          "height": 216
        }
      },
      "source": [
        "import bisect\n",
        "\n",
        "vout = (0,255)\n",
        "def imadjust(src, tol=0.5, vin=[0,255], vout=vout):\n",
        "    # src : input one-layer image (numpy array)\n",
        "    # tol : tolerance, from 0 to 100.\n",
        "    # vin  : src image bounds\n",
        "    # vout : dst image bounds\n",
        "    # return : output img\n",
        "\n",
        "    dst = src.copy()\n",
        "    tol = max(0, min(100, tol))\n",
        "\n",
        "    if tol > 0:\n",
        "        # Compute in and out limits\n",
        "        # Histogram\n",
        "        hist = np.zeros(256, dtype=np.int)\n",
        "        for r in range(src.shape[0]):\n",
        "            for c in range(src.shape[1]):\n",
        "                hist[src[r,c]] += 1\n",
        "        # Cumulative histogram\n",
        "        cum = hist.copy()\n",
        "        for i in range(1, len(hist)):\n",
        "            cum[i] = cum[i - 1] + hist[i]\n",
        "\n",
        "        # Compute bounds\n",
        "        total = src.shape[0] * src.shape[1]\n",
        "        low_bound = total * tol / 100\n",
        "        upp_bound = total * (100 - tol) / 100\n",
        "        vin[0] = bisect.bisect_left(cum, low_bound)\n",
        "        vin[1] = bisect.bisect_left(cum, upp_bound)\n",
        "\n",
        "    # Stretching\n",
        "    if (vin[1] - vin[0]) > 0:\n",
        "        scale = (vout[1] - vout[0]) / (vin[1] - vin[0])\n",
        "    else:\n",
        "        scale = 0\n",
        "        \n",
        "    for r in range(dst.shape[0]):\n",
        "        for c in range(dst.shape[1]):\n",
        "            vs = max(src[r,c] - vin[0], 0)\n",
        "            vd = min(int(vs * scale + 0.5) + vout[0], vout[1])\n",
        "            dst[r,c] = vd\n",
        "    return dst\n",
        "  \n",
        "nmbimg = '100002'  \n",
        "  \n",
        "idximg = 'imageEUC_VIS'\n",
        "image_file = 'imageEUC_VIS-'+str(nmbimg)+'.fits'\n",
        "fits.info(image_file)\n",
        "image_data = fits.getdata(image_file, ext=0)\n",
        "image_data= np.float32(image_data)\n",
        "image_data = cv2.normalize(image_data, None, 0, 255, cv2.NORM_MINMAX)\n",
        "image_data = np.uint8(image_data)\n",
        "image_datai = imadjust(image_data)\n",
        "image_data = cv2.fastNlMeansDenoising(image_datai,None,30,7,21)\n",
        "print(image_data.shape)\n",
        "\n",
        "\n",
        "plt.figure(1)\n",
        "plt.subplot(141)\n",
        "plt.imshow(image_datai, cmap='gray')"
      ],
      "execution_count": null,
      "outputs": [
        {
          "output_type": "stream",
          "text": [
            "Filename: imageEUC_VIS-100002.fits\n",
            "No.    Name      Ver    Type      Cards   Dimensions   Format\n",
            "  0  PRIMARY       1 PrimaryHDU      29   (101, 101)   float32   \n",
            "(101, 101)\n"
          ],
          "name": "stdout"
        },
        {
          "output_type": "execute_result",
          "data": {
            "text/plain": [
              "<matplotlib.image.AxesImage at 0x7f70f25a34e0>"
            ]
          },
          "metadata": {
            "tags": []
          },
          "execution_count": 10
        },
        {
          "output_type": "display_data",
          "data": {
            "image/png": "[encoded data removed]",
            "text/plain": [
              "<Figure size 432x288 with 1 Axes>"
            ]
          },
          "metadata": {
            "tags": []
          }
        }
      ]
    },
    {
      "cell_type": "markdown",
      "metadata": {
        "id": "eQUwiaPMDfPr"
      },
      "source": [
        "# ** Preprocessing  data**\n",
        "\n",
        "\n",
        "Training, test and validation data"
      ]
    },
    {
      "cell_type": "code",
      "metadata": {
        "id": "9g42LZ8M-Uqb",
        "outputId": "49e25f46-f607-4ad5-fe29-ed1e88a2d50a",
        "colab": {
          "base_uri": "https://localhost:8080/",
          "height": 405
        }
      },
      "source": [
        "pVal = x_data.shape[0] / 100 * 10 # 10% data to validation \n",
        "x_val = x_data[1:int(pVal)+1,:,:,:]\n",
        "\n",
        "ptest = pVal * 3 # 30% data to test\n",
        "x_test = x_data[int(pVal)+2:(int(pVal)+2)+int(ptest)+1,:,:,:]\n",
        "\n",
        "x_train = x_data[int(ptest+pVal):x_data.shape[0],:,:,:]\n",
        "#x_train = x_data\n",
        "#print(x_val)\n",
        "print('Shape x ...')\n",
        "print(x_val.shape)\n",
        "print(x_test.shape)\n",
        "print(x_train.shape)\n",
        "\n",
        "y_val = y_data[1:int(pVal)+1,0]\n",
        "\n",
        "y_test = y_data[int(pVal)+2:(int(pVal)+2)+int(ptest)+1,0]\n",
        "\n",
        "y_train = y_data[int(ptest+pVal):x_data.shape[0],0]\n",
        " \n",
        "print('Shape y ...')\n",
        "print(y_val.shape)\n",
        "print(y_test.shape)\n",
        "print(y_train.shape)\n",
        "\n",
        "\n",
        "\n",
        "print (x_train[1,0,:,:])"
      ],
      "execution_count": null,
      "outputs": [
        {
          "output_type": "stream",
          "text": [
            "Shape x ...\n",
            "(2000, 2, 101, 101)\n",
            "(6001, 2, 101, 101)\n",
            "(12000, 2, 101, 101)\n",
            "Shape y ...\n",
            "(2000,)\n",
            "(6001,)\n",
            "(12000,)\n",
            "[[ 61.15569497  57.54713042  69.03584084 ...  35.6754563   89.48366668\n",
            "   43.58201107]\n",
            " [ 64.27615395  30.73950083  69.7570904  ...  53.71110097  68.72893886\n",
            "    0.        ]\n",
            " [ 76.40627293  30.10332063  57.5571377  ...  56.06957943  43.51961986\n",
            "    5.60909221]\n",
            " ...\n",
            " [ 94.39090779  56.48298387  43.93042057 ...  42.4436938   69.87808726\n",
            "   43.58201107]\n",
            " [100.          31.27250272  46.28889903 ...  30.24323733  69.25406155\n",
            "   43.58201107]\n",
            " [ 56.41798893  10.51681811  64.3245437  ...  30.96435632  42.45078697\n",
            "   43.58201107]]\n"
          ],
          "name": "stdout"
        }
      ]
    },
    {
      "cell_type": "markdown",
      "metadata": {
        "id": "hnHDeq5vBvyI"
      },
      "source": [
        "# Create Model Sequential"
      ]
    },
    {
      "cell_type": "code",
      "metadata": {
        "id": "tBXYgIf1fxjy",
        "outputId": "fe79680d-19dd-46ff-8b29-72fbc5936ea3",
        "colab": {
          "base_uri": "https://localhost:8080/",
          "height": 314
        }
      },
      "source": [
        "model = Sequential()\n",
        "\n",
        "\n",
        "model.add(Convolution2D(64, (3, 3), input_shape=(x_data.shape[1],101,101), data_format='channels_first'))\n",
        "model.add(BatchNormalization())\n",
        "model.add(Activation('relu'))\n",
        "model.add(MaxPooling2D(pool_size=(2, 2)))\n",
        "\n",
        "model.add(Convolution2D(128, (3, 3), data_format='channels_first')) \n",
        "model.add(BatchNormalization())\n",
        "model.add(Activation('relu'))\n",
        "model.add(MaxPooling2D(pool_size=(2, 2)))\n",
        "\n",
        "model.add(Convolution2D(256, (3, 3), data_format='channels_first')) \n",
        "model.add(BatchNormalization())\n",
        "model.add(Activation('relu'))\n",
        "model.add(MaxPooling2D(pool_size=(2, 2)))\n",
        "\n",
        "model.add(Convolution2D(512, (3, 3), data_format='channels_first')) \n",
        "model.add(BatchNormalization())\n",
        "model.add(Activation('relu'))\n",
        "model.add(MaxPooling2D(pool_size=(2, 2)))\n",
        "\n",
        "#model.add(Dropout(0.5)) # 0.2\n",
        "model.add(Flatten())\n",
        "\n",
        "model.add(Dense(512)) \n",
        "model.add(BatchNormalization())\n",
        "model.add(Activation('relu'))\n",
        "model.add(Dense(256)) \n",
        "model.add(BatchNormalization())\n",
        "model.add(Activation('relu'))\n",
        "model.add(Dense(128))\n",
        "model.add(BatchNormalization())\n",
        "model.add(Activation('relu'))\n",
        "model.add(Dense(64)) \n",
        "model.add(BatchNormalization())\n",
        "model.add(Activation('relu'))\n",
        "model.add(Dense(2))\n",
        "model.add(Dense(2, activation= 'softmax' )) \n",
        "\n",
        "lr = 0.1\n",
        "sgd = SGD(lr=lr, decay=1e-6, momentum=0.9, nesterov=True)\n"
      ],
      "execution_count": null,
      "outputs": [
        {
          "output_type": "stream",
          "text": [
            "WARNING: Logging before flag parsing goes to stderr.\n",
            "W0708 01:50:26.867637 140124606683008 deprecation_wrapper.py:119] From /usr/local/lib/python3.6/dist-packages/keras/backend/tensorflow_backend.py:74: The name tf.get_default_graph is deprecated. Please use tf.compat.v1.get_default_graph instead.\n",
            "\n",
            "W0708 01:50:26.927487 140124606683008 deprecation_wrapper.py:119] From /usr/local/lib/python3.6/dist-packages/keras/backend/tensorflow_backend.py:517: The name tf.placeholder is deprecated. Please use tf.compat.v1.placeholder instead.\n",
            "\n",
            "W0708 01:50:26.953676 140124606683008 deprecation_wrapper.py:119] From /usr/local/lib/python3.6/dist-packages/keras/backend/tensorflow_backend.py:4138: The name tf.random_uniform is deprecated. Please use tf.random.uniform instead.\n",
            "\n",
            "W0708 01:50:26.974571 140124606683008 deprecation_wrapper.py:119] From /usr/local/lib/python3.6/dist-packages/keras/backend/tensorflow_backend.py:174: The name tf.get_default_session is deprecated. Please use tf.compat.v1.get_default_session instead.\n",
            "\n",
            "W0708 01:50:26.975499 140124606683008 deprecation_wrapper.py:119] From /usr/local/lib/python3.6/dist-packages/keras/backend/tensorflow_backend.py:181: The name tf.ConfigProto is deprecated. Please use tf.compat.v1.ConfigProto instead.\n",
            "\n",
            "W0708 01:50:30.132266 140124606683008 deprecation_wrapper.py:119] From /usr/local/lib/python3.6/dist-packages/keras/backend/tensorflow_backend.py:1834: The name tf.nn.fused_batch_norm is deprecated. Please use tf.compat.v1.nn.fused_batch_norm instead.\n",
            "\n",
            "W0708 01:50:30.201249 140124606683008 deprecation_wrapper.py:119] From /usr/local/lib/python3.6/dist-packages/keras/backend/tensorflow_backend.py:3976: The name tf.nn.max_pool is deprecated. Please use tf.nn.max_pool2d instead.\n",
            "\n"
          ],
          "name": "stderr"
        }
      ]
    },
    {
      "cell_type": "markdown",
      "metadata": {
        "id": "kEuu8MD_Nprs"
      },
      "source": [
        "**Compile Model:**"
      ]
    },
    {
      "cell_type": "code",
      "metadata": {
        "id": "K9862MedNoiO",
        "outputId": "af8dbe89-eef7-45a6-9baa-86f71a08cff6",
        "colab": {
          "base_uri": "https://localhost:8080/",
          "height": 129
        }
      },
      "source": [
        "#model.load_weights('Train_fold_3weights_50.h5', by_name=True) ## if load weighs from .h5\n",
        "\n",
        "model.compile(loss= 'binary_crossentropy' , optimizer=sgd , metrics=[ 'accuracy' ])\n",
        "#model.summary()"
      ],
      "execution_count": null,
      "outputs": [
        {
          "output_type": "stream",
          "text": [
            "W0708 01:50:30.913039 140124606683008 deprecation_wrapper.py:119] From /usr/local/lib/python3.6/dist-packages/keras/optimizers.py:790: The name tf.train.Optimizer is deprecated. Please use tf.compat.v1.train.Optimizer instead.\n",
            "\n",
            "W0708 01:50:30.930150 140124606683008 deprecation.py:323] From /usr/local/lib/python3.6/dist-packages/tensorflow/python/ops/nn_impl.py:180: add_dispatch_support.<locals>.wrapper (from tensorflow.python.ops.array_ops) is deprecated and will be removed in a future version.\n",
            "Instructions for updating:\n",
            "Use tf.where in 2.0, which has the same broadcast rule as np.where\n"
          ],
          "name": "stderr"
        }
      ]
    },
    {
      "cell_type": "markdown",
      "metadata": {
        "id": "p_g2r43qMUyn"
      },
      "source": [
        "**In order to make the most of our few training examples, we will \"augment\" them via a number of random transformations, so that our model would never see twice the exact same picture. This helps prevent overfitting and helps the model generalize better. Data Augmentation:**"
      ]
    },
    {
      "cell_type": "code",
      "metadata": {
        "id": "x-19aPnKBUgs"
      },
      "source": [
        "gen = ImageDataGenerator(rotation_range = 90) # Degree range for random rotations."
      ],
      "execution_count": null,
      "outputs": []
    },
    {
      "cell_type": "markdown",
      "metadata": {
        "id": "TZEon0HmL7LH"
      },
      "source": [
        "**A callback is a set of functions to be applied at given stages of the training procedure. You can use callbacks to get a view on internal states and statistics of the model during training. Building  Callbacks:**"
      ]
    },
    {
      "cell_type": "code",
      "metadata": {
        "id": "oDEWsemlB6PX"
      },
      "source": [
        "def get_callbacks(name_weights, patience_lr, name_csv):\n",
        "    mcp_save = ModelCheckpoint(name_weights)\n",
        "    csv_logger = CSVLogger(name_csv)\n",
        "    reduce_lr_loss = ReduceLROnPlateau(monitor='loss', factor=0.1, patience=patience_lr, verbose=1, epsilon=1e-4, mode='max')\n",
        "    return [mcp_save, csv_logger, reduce_lr_loss]\n",
        "  "
      ],
      "execution_count": null,
      "outputs": []
    },
    {
      "cell_type": "markdown",
      "metadata": {
        "id": "UxateFugL0vt"
      },
      "source": [
        "**Converts a class vector (integers) to binary class matrix:**"
      ]
    },
    {
      "cell_type": "code",
      "metadata": {
        "id": "qHGwe2X2b4n9"
      },
      "source": [
        "y_train = to_categorical(y_train)\n",
        "y_val = to_categorical(y_val)\n",
        "y_test = to_categorical(y_test)"
      ],
      "execution_count": null,
      "outputs": []
    },
    {
      "cell_type": "markdown",
      "metadata": {
        "id": "nAzYU72jB-ed"
      },
      "source": [
        "# Train\n",
        "\n",
        "Show graphics loss x epoch and acc x epoch"
      ]
    },
    {
      "cell_type": "code",
      "metadata": {
        "id": "KXqOAfGTIzJM",
        "outputId": "c7c3bd80-dc33-4bad-c45f-a630b803f4fd",
        "colab": {
          "base_uri": "https://localhost:8080/",
          "height": 1000
        }
      },
      "source": [
        "\n",
        "batch_size=32\n",
        "start = time.perf_counter()\n",
        "\n",
        "# See https://www.tensorflow.org/tutorials/using_gpu#allowing_gpu_memory_growth\n",
        "# The first is the allow_growth option, which attempts to allocate only as much\n",
        "# GPU memory based on runtime allocations: it starts out allocating very little \n",
        "# memory, and as Sessions get run and more GPU memory is needed, we extend the GPU memory region needed by \n",
        "# the TensorFlow process. Note that we do not release memory, since that can lead \n",
        "# to even worse memory fragmentation. To turn this option on, set the option in the ConfigProto by:\n",
        "\n",
        "config = tf.ConfigProto()\n",
        "config.gpu_options.allow_growth = True\n",
        "\n",
        "sess = tf.Session(config=config)\n",
        "\n",
        "\n",
        "name_weights = \"Train_model_weights_{epoch:02d}.h5\"\n",
        "csv_name = \"trainning_k.csv\"\n",
        "callbacks = get_callbacks(name_weights = name_weights, patience_lr=10, name_csv = csv_name)\n",
        "generator = gen.flow(x_train, y_train, batch_size = batch_size)\n",
        "# change epochs\n",
        "history = model.fit_generator(\n",
        "                  generator,\n",
        "                  steps_per_epoch=len(x_train)/batch_size,\n",
        "                  epochs=35,\n",
        "                  verbose=1,\n",
        "                  validation_data = (x_val, y_val),\n",
        "                  validation_steps = len(x_val),\n",
        "                  callbacks = callbacks)\n",
        "      \n",
        "      \n",
        "###### Plot training & validation accuracy values\n",
        "plt.figure()\n",
        "plt.plot(history.history['acc'])\n",
        "plt.plot(history.history['val_acc'])\n",
        "plt.title('Model accuracy ' )\n",
        "plt.ylabel('Accuracy')\n",
        "plt.xlabel('Epoch')\n",
        "plt.legend(['Train', 'Valid'], loc='upper left')\n",
        "plt.show()\n",
        "plt.savefig(\"AccxEpoch.png\")\n",
        "\n",
        "###### Plot training & validation loss values\n",
        "plt.figure()\n",
        "plt.plot(history.history['loss'])\n",
        "plt.plot(history.history['val_loss'])\n",
        "plt.title('Model loss ')\n",
        "plt.ylabel('Loss')\n",
        "plt.xlabel('Epoch')\n",
        "plt.legend(['Train', 'Valid'], loc='upper left')\n",
        "plt.show()\n",
        "plt.savefig(\"LossxEpoch.png\")\n",
        "\n",
        "\n",
        "sess.close()\n",
        "\n",
        "elapsed = time.perf_counter() - start\n",
        "print('Elapsed %.3f seconds.' % elapsed)            "
      ],
      "execution_count": null,
      "outputs": [
        {
          "output_type": "stream",
          "text": [
            "Epoch 1/35\n",
            "375/375 [==============================] - 59s 158ms/step - loss: 0.5757 - acc: 0.7138 - val_loss: 0.6826 - val_acc: 0.7010\n",
            "Epoch 2/35\n",
            "375/375 [==============================] - 52s 139ms/step - loss: 0.5189 - acc: 0.7472 - val_loss: 0.7279 - val_acc: 0.7005\n",
            "Epoch 3/35\n",
            "375/375 [==============================] - 52s 138ms/step - loss: 0.4913 - acc: 0.7631 - val_loss: 0.7366 - val_acc: 0.7010\n",
            "Epoch 4/35\n",
            "375/375 [==============================] - 52s 139ms/step - loss: 0.4739 - acc: 0.7711 - val_loss: 0.4721 - val_acc: 0.7665\n",
            "Epoch 5/35\n",
            "375/375 [==============================] - 52s 138ms/step - loss: 0.4596 - acc: 0.7788 - val_loss: 0.5175 - val_acc: 0.7415\n",
            "Epoch 6/35\n",
            "375/375 [==============================] - 52s 138ms/step - loss: 0.4498 - acc: 0.7883 - val_loss: 0.4653 - val_acc: 0.7635\n",
            "Epoch 7/35\n",
            "375/375 [==============================] - 52s 139ms/step - loss: 0.4449 - acc: 0.7863 - val_loss: 0.6497 - val_acc: 0.7005\n",
            "Epoch 8/35\n",
            "375/375 [==============================] - 53s 140ms/step - loss: 0.4304 - acc: 0.7910 - val_loss: 0.4599 - val_acc: 0.7835\n",
            "Epoch 9/35\n",
            "375/375 [==============================] - 52s 139ms/step - loss: 0.4343 - acc: 0.7863 - val_loss: 0.4909 - val_acc: 0.7550\n",
            "Epoch 10/35\n",
            "375/375 [==============================] - 52s 140ms/step - loss: 0.4199 - acc: 0.7934 - val_loss: 0.5093 - val_acc: 0.7130\n",
            "Epoch 11/35\n",
            "375/375 [==============================] - 52s 139ms/step - loss: 0.4224 - acc: 0.7965 - val_loss: 0.6933 - val_acc: 0.7085\n",
            "\n",
            "Epoch 00011: ReduceLROnPlateau reducing learning rate to 0.010000000149011612.\n",
            "Epoch 12/35\n",
            "375/375 [==============================] - 52s 139ms/step - loss: 0.3925 - acc: 0.8022 - val_loss: 0.4033 - val_acc: 0.7985\n",
            "Epoch 13/35\n",
            "375/375 [==============================] - 52s 139ms/step - loss: 0.3883 - acc: 0.8127 - val_loss: 0.4321 - val_acc: 0.7830\n",
            "Epoch 14/35\n",
            "375/375 [==============================] - 52s 139ms/step - loss: 0.3870 - acc: 0.8077 - val_loss: 0.4118 - val_acc: 0.7985\n",
            "Epoch 15/35\n",
            "375/375 [==============================] - 52s 139ms/step - loss: 0.3828 - acc: 0.8097 - val_loss: 0.4229 - val_acc: 0.7800\n",
            "Epoch 16/35\n",
            "375/375 [==============================] - 53s 140ms/step - loss: 0.3814 - acc: 0.8131 - val_loss: 0.4415 - val_acc: 0.7830\n",
            "Epoch 17/35\n",
            "375/375 [==============================] - 52s 139ms/step - loss: 0.3746 - acc: 0.8122 - val_loss: 0.3882 - val_acc: 0.8095\n",
            "Epoch 18/35\n",
            "375/375 [==============================] - 52s 139ms/step - loss: 0.3687 - acc: 0.8222 - val_loss: 0.4060 - val_acc: 0.7890\n",
            "Epoch 19/35\n",
            "375/375 [==============================] - 52s 140ms/step - loss: 0.3658 - acc: 0.8220 - val_loss: 0.4248 - val_acc: 0.7795\n",
            "Epoch 20/35\n",
            "375/375 [==============================] - 52s 139ms/step - loss: 0.3594 - acc: 0.8272 - val_loss: 0.4266 - val_acc: 0.7725\n",
            "Epoch 21/35\n",
            "375/375 [==============================] - 52s 140ms/step - loss: 0.3647 - acc: 0.8226 - val_loss: 0.3975 - val_acc: 0.8045\n",
            "\n",
            "Epoch 00021: ReduceLROnPlateau reducing learning rate to 0.0009999999776482583.\n",
            "Epoch 22/35\n",
            "375/375 [==============================] - 53s 140ms/step - loss: 0.3596 - acc: 0.8273 - val_loss: 0.4033 - val_acc: 0.7890\n",
            "Epoch 23/35\n",
            "375/375 [==============================] - 52s 140ms/step - loss: 0.3583 - acc: 0.8290 - val_loss: 0.4046 - val_acc: 0.7935\n",
            "Epoch 24/35\n",
            "375/375 [==============================] - 52s 139ms/step - loss: 0.3554 - acc: 0.8273 - val_loss: 0.4113 - val_acc: 0.7895\n",
            "Epoch 25/35\n",
            "375/375 [==============================] - 52s 138ms/step - loss: 0.3580 - acc: 0.8239 - val_loss: 0.4089 - val_acc: 0.7870\n",
            "Epoch 26/35\n",
            "375/375 [==============================] - 52s 138ms/step - loss: 0.3562 - acc: 0.8286 - val_loss: 0.4074 - val_acc: 0.7905\n",
            "Epoch 27/35\n",
            "375/375 [==============================] - 52s 139ms/step - loss: 0.3553 - acc: 0.8267 - val_loss: 0.3978 - val_acc: 0.7940\n",
            "Epoch 28/35\n",
            "375/375 [==============================] - 52s 139ms/step - loss: 0.3508 - acc: 0.8300 - val_loss: 0.4054 - val_acc: 0.7950\n",
            "Epoch 29/35\n",
            "375/375 [==============================] - 52s 138ms/step - loss: 0.3572 - acc: 0.8277 - val_loss: 0.4044 - val_acc: 0.7895\n",
            "Epoch 30/35\n",
            "375/375 [==============================] - 51s 137ms/step - loss: 0.3624 - acc: 0.8246 - val_loss: 0.4097 - val_acc: 0.7885\n",
            "Epoch 31/35\n",
            "375/375 [==============================] - 52s 138ms/step - loss: 0.3484 - acc: 0.8302 - val_loss: 0.4065 - val_acc: 0.7910\n",
            "\n",
            "Epoch 00031: ReduceLROnPlateau reducing learning rate to 9.999999310821295e-05.\n",
            "Epoch 32/35\n",
            "375/375 [==============================] - 52s 138ms/step - loss: 0.3556 - acc: 0.8240 - val_loss: 0.4057 - val_acc: 0.7935\n",
            "Epoch 33/35\n",
            "375/375 [==============================] - 52s 138ms/step - loss: 0.3582 - acc: 0.8302 - val_loss: 0.4066 - val_acc: 0.7935\n",
            "Epoch 34/35\n",
            "375/375 [==============================] - 52s 138ms/step - loss: 0.3560 - acc: 0.8252 - val_loss: 0.4031 - val_acc: 0.7950\n",
            "Epoch 35/35\n",
            "375/375 [==============================] - 53s 142ms/step - loss: 0.3494 - acc: 0.8309 - val_loss: 0.4030 - val_acc: 0.7930\n"
          ],
          "name": "stdout"
        },
        {
          "output_type": "display_data",
          "data": {
            "image/png": "[encoded data removed]",
            "text/plain": [
              "<Figure size 432x288 with 1 Axes>"
            ]
          },
          "metadata": {
            "tags": []
          }
        },
        {
          "output_type": "display_data",
          "data": {
            "text/plain": [
              "<Figure size 432x288 with 0 Axes>"
            ]
          },
          "metadata": {
            "tags": []
          }
        },
        {
          "output_type": "display_data",
          "data": {
            "image/png": "[encoded data removed]",
            "text/plain": [
              "<Figure size 432x288 with 1 Axes>"
            ]
          },
          "metadata": {
            "tags": []
          }
        },
        {
          "output_type": "stream",
          "text": [
            "Elapsed 1884.931 seconds.\n"
          ],
          "name": "stdout"
        },
        {
          "output_type": "display_data",
          "data": {
            "text/plain": [
              "<Figure size 432x288 with 0 Axes>"
            ]
          },
          "metadata": {
            "tags": []
          }
        }
      ]
    },
    {
      "cell_type": "code",
      "metadata": {
        "id": "IKWel_dGgZHY",
        "outputId": "b2cd68b7-a1e0-497b-d710-20f6566c3d01",
        "colab": {
          "base_uri": "https://localhost:8080/",
          "height": 343
        }
      },
      "source": [
        "#print(model.evaluate(x_test, y_test)) \n",
        "      \n",
        "probs = model.predict_proba(x_test)\n",
        "######## keep probabilities for the positive outcome only\n",
        "probsp = probs[:, 1]\n",
        "######## calculate AUC\n",
        "auc = roc_auc_score(y_test[:,1], probsp)\n",
        "print('AUC: %.3f' % auc)\n",
        "\n",
        "      \n",
        "######## calculate roc curve\n",
        "fpr, tpr, thresholds = roc_curve(y_test[:,1], probsp)\n",
        "\n",
        "\n",
        "plt.figure()\n",
        "plt.plot([0, 1], [0, 1], 'k--') # k = color black\n",
        "plt.plot(fpr, tpr, label=\"AUC: %.3f\" % auc, color='C1', linewidth=3) # for color 'C'+str(j), for j[0 9]\n",
        "plt.legend(bbox_to_anchor=(0., 1.02, 1., .102), loc='lower left', ncol=2, mode=\"expand\", borderaxespad=0.)\n",
        "plt.title('ROC')\n",
        "plt.xlabel('false positive rate', fontsize=14)\n",
        "plt.ylabel('true positive rate', fontsize=14)\n",
        "    \n",
        "plt.show()\n",
        "plt.savefig(\"ROCLensDetectNet.png\")"
      ],
      "execution_count": null,
      "outputs": [
        {
          "output_type": "stream",
          "text": [
            "AUC: 0.889\n"
          ],
          "name": "stdout"
        },
        {
          "output_type": "display_data",
          "data": {
            "image/png": "[encoded data removed]",
            "text/plain": [
              "<Figure size 432x288 with 1 Axes>"
            ]
          },
          "metadata": {
            "tags": []
          }
        },
        {
          "output_type": "display_data",
          "data": {
            "text/plain": [
              "<Figure size 432x288 with 0 Axes>"
            ]
          },
          "metadata": {
            "tags": []
          }
        }
      ]
    },
    {
      "cell_type": "code",
      "metadata": {
        "id": "6ehhBhdwmnuF",
        "outputId": "fe7197c0-e65f-4d56-b8d1-4801bb46887c",
        "colab": {
          "base_uri": "https://localhost:8080/",
          "height": 35
        }
      },
      "source": [
        "# Final evaluation of the model\n",
        "scores = model.evaluate(x_test, y_test, verbose=0)\n",
        "print(\"Large CNN Error: %.2f%%\" % (100-scores[1]*100))"
      ],
      "execution_count": null,
      "outputs": [
        {
          "output_type": "stream",
          "text": [
            "Large CNN Error: 19.43%\n"
          ],
          "name": "stdout"
        }
      ]
    },
    {
      "cell_type": "code",
      "metadata": {
        "id": "MNlk3H8InU4L",
        "outputId": "f64a0a55-48cb-452e-c4e8-3d5f27bc8cbc",
        "colab": {
          "base_uri": "https://localhost:8080/",
          "height": 313
        }
      },
      "source": [
        "import matplotlib.pyplot as plt\n",
        "# Predict single images\n",
        "n_images = 8\n",
        "# Get images from test set\n",
        "test_images = x_test[:n_images]\n",
        "# Predicts\n",
        "# Use the model to predict the images class\n",
        "preds = list(model.predict_proba(test_images))\n",
        "# print(\"Large CNN Error: %.2f%%\" % (100-scores[1]*100))\n",
        "# Display\n",
        "vout = (0,255)\n",
        "for i in range(n_images):\n",
        "    output=np.where(preds[i]==preds[i].max())\n",
        "    print(\"Model prediction:\", output[0][0])\n",
        "    #print(y_test[:,1])\n",
        "    print(\"Real:\", np.uint8(y_test[i,1]))"
      ],
      "execution_count": null,
      "outputs": [
        {
          "output_type": "stream",
          "text": [
            "Model prediction: 1\n",
            "Real: 1\n",
            "Model prediction: 0\n",
            "Real: 1\n",
            "Model prediction: 1\n",
            "Real: 1\n",
            "Model prediction: 0\n",
            "Real: 0\n",
            "Model prediction: 1\n",
            "Real: 1\n",
            "Model prediction: 0\n",
            "Real: 0\n",
            "Model prediction: 1\n",
            "Real: 1\n",
            "Model prediction: 1\n",
            "Real: 0\n"
          ],
          "name": "stdout"
        }
      ]
    }
  ]
}